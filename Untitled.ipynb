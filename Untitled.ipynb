{
 "cells": [
  {
   "cell_type": "code",
   "execution_count": 1,
   "id": "84553e00",
   "metadata": {},
   "outputs": [
    {
     "name": "stdout",
     "output_type": "stream",
     "text": [
      "Requirement already satisfied: python-barcode in c:\\users\\dglig\\anaconda3\\lib\\site-packages (0.13.1)\n",
      "Note: you may need to restart the kernel to use updated packages.\n"
     ]
    }
   ],
   "source": [
    "pip install python-barcode"
   ]
  },
  {
   "cell_type": "code",
   "execution_count": 2,
   "id": "5bfd1f03",
   "metadata": {},
   "outputs": [],
   "source": [
    "import barcode"
   ]
  },
  {
   "cell_type": "code",
   "execution_count": 3,
   "id": "db036919",
   "metadata": {},
   "outputs": [],
   "source": [
    "hr = barcode.get_barcode_class('ean13')"
   ]
  },
  {
   "cell_type": "code",
   "execution_count": 4,
   "id": "a488ae7c",
   "metadata": {},
   "outputs": [],
   "source": [
    "HR = hr('123456789101112')"
   ]
  },
  {
   "cell_type": "code",
   "execution_count": 5,
   "id": "fade1b4e",
   "metadata": {},
   "outputs": [],
   "source": [
    "qr = HR.save('123')"
   ]
  },
  {
   "cell_type": "code",
   "execution_count": 7,
   "id": "5e895759",
   "metadata": {},
   "outputs": [
    {
     "name": "stdout",
     "output_type": "stream",
     "text": [
      "Requirement already satisfied: python-barcode[images] in c:\\users\\dglig\\anaconda3\\lib\\site-packages (0.13.1)\n",
      "Requirement already satisfied: pillow in c:\\users\\dglig\\anaconda3\\lib\\site-packages (from python-barcode[images]) (8.2.0)\n",
      "Note: you may need to restart the kernel to use updated packages.\n"
     ]
    }
   ],
   "source": [
    "pip install \"python-barcode[images]\""
   ]
  },
  {
   "cell_type": "code",
   "execution_count": 9,
   "id": "642bda9f",
   "metadata": {},
   "outputs": [],
   "source": [
    "hr = barcode.get_barcode_class('code39')"
   ]
  },
  {
   "cell_type": "code",
   "execution_count": 11,
   "id": "522684f0",
   "metadata": {},
   "outputs": [],
   "source": [
    "from barcode.writer import ImageWriter"
   ]
  },
  {
   "cell_type": "code",
   "execution_count": 12,
   "id": "5d4c7f54",
   "metadata": {},
   "outputs": [],
   "source": [
    "hr = barcode.get_barcode_class('code39')"
   ]
  },
  {
   "cell_type": "code",
   "execution_count": 19,
   "id": "58d0c5e9",
   "metadata": {},
   "outputs": [],
   "source": [
    "HR = hr('prince Verma', writer=ImageWriter())"
   ]
  },
  {
   "cell_type": "code",
   "execution_count": 21,
   "id": "3d0b4e05",
   "metadata": {},
   "outputs": [],
   "source": [
    "qr=HR.save('12345')"
   ]
  },
  {
   "cell_type": "code",
   "execution_count": null,
   "id": "a2f6a3ea",
   "metadata": {},
   "outputs": [],
   "source": []
  }
 ],
 "metadata": {
  "kernelspec": {
   "display_name": "Python 3",
   "language": "python",
   "name": "python3"
  },
  "language_info": {
   "codemirror_mode": {
    "name": "ipython",
    "version": 3
   },
   "file_extension": ".py",
   "mimetype": "text/x-python",
   "name": "python",
   "nbconvert_exporter": "python",
   "pygments_lexer": "ipython3",
   "version": "3.8.8"
  }
 },
 "nbformat": 4,
 "nbformat_minor": 5
}
